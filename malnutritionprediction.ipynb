{
 "cells": [
  {
   "cell_type": "code",
   "execution_count": 2,
   "id": "77664a39-b420-44c4-9018-d951218eace5",
   "metadata": {},
   "outputs": [
    {
     "name": "stdout",
     "output_type": "stream",
     "text": [
      "Relatório de Classificação:\n",
      "              precision    recall  f1-score   support\n",
      "\n",
      "           0       1.00      1.00      1.00         1\n",
      "           1       1.00      1.00      1.00         2\n",
      "\n",
      "    accuracy                           1.00         3\n",
      "   macro avg       1.00      1.00      1.00         3\n",
      "weighted avg       1.00      1.00      1.00         3\n",
      "\n",
      "\n",
      "Previsão: Alta probabilidade de desnutrição nesta região.\n"
     ]
    }
   ],
   "source": [
    "# Importa as bibliotecas necessárias\n",
    "# Rode: !pip install pandas scikit-learn\n",
    "import pandas as pd\n",
    "from sklearn.model_selection import train_test_split\n",
    "from sklearn.linear_model import LogisticRegression\n",
    "from sklearn.metrics import classification_report\n",
    "\n",
    "# Cria um DataFrame fictício com dados para demonstração\n",
    "# Na vida real, dados do SISVAN seriam usados, por exemplo\n",
    "data = {\n",
    "    'PIB_PER_CAPITA': [5000, 10000, 2000, 12000, 8000, 3000, 15000, 6000],\n",
    "    'NUM_PSFS': [10, 5, 2, 7, 4, 1, 8, 3],\n",
    "    'POBRES': [0.6, 0.2, 0.9, 0.1, 0.4, 0.8, 0.15, 0.5],\n",
    "    'DESNUTRICAO': [1, 0, 1, 0, 0, 1, 0, 1]  # 1: sim, 0: não\n",
    "}\n",
    "df_ml = pd.DataFrame(data)\n",
    "\n",
    "# Define as variáveis de entrada (X) e a variável alvo (y)\n",
    "X = df_ml[['PIB_PER_CAPITA', 'NUM_PSFS', 'POBRES']]\n",
    "y = df_ml['DESNUTRICAO']\n",
    "\n",
    "# Divide os dados em treino e teste\n",
    "X_train, X_test, y_train, y_test = train_test_split(X, y, test_size=0.3, random_state=42)\n",
    "\n",
    "# Cria e treina o modelo de regressão logística\n",
    "modelo = LogisticRegression()\n",
    "modelo.fit(X_train, y_train)\n",
    "\n",
    "# Faz previsões com os dados de teste\n",
    "predicoes = modelo.predict(X_test)\n",
    "\n",
    "# Mostra a precisão do modelo\n",
    "print(\"Relatório de Classificação:\")\n",
    "print(classification_report(y_test, predicoes))\n",
    "\n",
    "# Exemplo de uma nova previsão\n",
    "nova_regiao = pd.DataFrame([[4000, 2, 0.7]], columns=['PIB_PER_CAPITA', 'NUM_PSFS', 'POBRES'])\n",
    "previsao = modelo.predict(nova_regiao)\n",
    "\n",
    "if previsao[0] == 1:\n",
    "    print(\"\\nPrevisão: Alta probabilidade de desnutrição nesta região.\")\n",
    "else:\n",
    "    print(\"\\nPrevisão: Baixa probabilidade de desnutrição nesta região.\")\n",
    "\n",
    "# Para o Azure, seria usado o Azure Machine Learning para hospedar este modelo."
   ]
  },
  {
   "cell_type": "code",
   "execution_count": null,
   "id": "e913c8a2-b11a-4744-8600-78acb3ca69a2",
   "metadata": {},
   "outputs": [],
   "source": []
  }
 ],
 "metadata": {
  "kernelspec": {
   "display_name": "Python 3 (ipykernel)",
   "language": "python",
   "name": "python3"
  },
  "language_info": {
   "codemirror_mode": {
    "name": "ipython",
    "version": 3
   },
   "file_extension": ".py",
   "mimetype": "text/x-python",
   "name": "python",
   "nbconvert_exporter": "python",
   "pygments_lexer": "ipython3",
   "version": "3.13.5"
  }
 },
 "nbformat": 4,
 "nbformat_minor": 5
}
